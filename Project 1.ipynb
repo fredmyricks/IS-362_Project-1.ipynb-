{
 "cells": [
  {
   "cell_type": "code",
   "outputs": [],
   "source": [
    "# I created the CSV file the using the csv module from the Python Standard Library.\n",
    "\n",
    "import csv\n",
    "\n",
    "data = [\n",
    "    {'Airline': 'AM WEST', 'City': 'Los Angeles', 'Arrival Delay': 62},\n",
    "    {'Airline': 'AM WEST', 'City': 'San Diego', 'Arrival Delay': 20},\n",
    "    {'Airline': 'AM WEST', 'City': 'San Francisco', 'Arrival Delay': 102},\n",
    "    {'Airline': 'AM WEST', 'City': 'Phoenix', 'Arrival Delay': 129},\n",
    "    {'Airline': 'AM WEST', 'City': 'Seattle', 'Arrival Delay': 305},\n",
    "    {'Airline': 'ALASKA', 'City': 'Los Angeles', 'Arrival Delay': 12},\n",
    "    {'Airline': 'ALASKA', 'City': 'San Diego', 'Arrival Delay': 59},\n",
    "    {'Airline': 'ALASKA', 'City': 'San Francisco', 'Arrival Delay': 201},\n",
    "    {'Airline': 'ALASKA', 'City': 'Phoenix', 'Arrival Delay': 0},\n",
    "    {'Airline': 'ALASKA', 'City': 'Seattle', 'Arrival Delay': 0},\n",
    "]\n",
    "\n",
    "csv_file_path = 'airline_delays.csv'\n",
    "\n",
    "with open(csv_file_path, 'w', newline='') as csvfile:\n",
    "    fieldnames = ['Airline', 'City', 'Arrival Delay']\n",
    "    writer = csv.DictWriter(csvfile, fieldnames=fieldnames)\n",
    "\n",
    "    writer.writeheader()\n",
    "    writer.writerows(data)\n"
   ],
   "metadata": {
    "collapsed": false,
    "ExecuteTime": {
     "end_time": "2024-02-03T17:53:43.055485500Z",
     "start_time": "2024-02-03T17:53:43.052374700Z"
    }
   },
   "id": "b78d4252b85a505b",
   "execution_count": 22
  },
  {
   "cell_type": "code",
   "outputs": [
    {
     "name": "stdout",
     "output_type": "stream",
     "text": [
      "   Airline           City  Arrival Delay\n",
      "0  AM WEST    Los Angeles             62\n",
      "1  AM WEST      San Diego             20\n",
      "2  AM WEST  San Francisco            102\n",
      "3  AM WEST        Phoenix            129\n",
      "4  AM WEST        Seattle            305\n",
      "5   ALASKA    Los Angeles             12\n",
      "6   ALASKA      San Diego             59\n",
      "7   ALASKA  San Francisco            201\n",
      "8   ALASKA        Phoenix              0\n",
      "9   ALASKA        Seattle              0\n",
      "\n",
      "Mean Arrival Delays:\n",
      "Airline\n",
      "ALASKA      54.4\n",
      "AM WEST    123.6\n",
      "Name: Arrival Delay, dtype: float64\n"
     ]
    },
    {
     "data": {
      "text/plain": "Airline\nALASKA      54.4\nAM WEST    123.6\nName: Arrival Delay, dtype: float64"
     },
     "execution_count": 26,
     "metadata": {},
     "output_type": "execute_result"
    }
   ],
   "source": [
    "#I used pandas to read the data and perform the analysis.\n",
    "\n",
    "import pandas as pd\n",
    "\n",
    "df = pd.read_csv('airline_delays.csv')\n",
    "\n",
    "# Group by airline and calculate mean arrival delay\n",
    "mean_delay_by_airline = df.groupby('Airline')['Arrival Delay'].mean()\n",
    "\n",
    "# Display the DataFrame and mean delays\n",
    "print(df)\n",
    "print('\\nMean Arrival Delays:')\n",
    "print(mean_delay_by_airline)\n",
    "df.head()\n",
    "\n",
    "\n",
    "# Group by airline and calculate mean arrival delay\n",
    "mean_delay_by_airline = df.groupby('Airline')['Arrival Delay'].mean()\n",
    "\n",
    "# Display mean delays\n",
    "mean_delay_by_airline\n",
    "\n"
   ],
   "metadata": {
    "collapsed": false,
    "ExecuteTime": {
     "end_time": "2024-02-03T17:57:18.704863700Z",
     "start_time": "2024-02-03T17:57:18.689540300Z"
    }
   },
   "id": "93daf797cddfa445",
   "execution_count": 26
  },
  {
   "cell_type": "code",
   "outputs": [],
   "source": [],
   "metadata": {
    "collapsed": false
   },
   "id": "3f1b1f9a3882cbcc"
  }
 ],
 "metadata": {
  "kernelspec": {
   "display_name": "Python 3",
   "language": "python",
   "name": "python3"
  },
  "language_info": {
   "codemirror_mode": {
    "name": "ipython",
    "version": 2
   },
   "file_extension": ".py",
   "mimetype": "text/x-python",
   "name": "python",
   "nbconvert_exporter": "python",
   "pygments_lexer": "ipython2",
   "version": "2.7.6"
  }
 },
 "nbformat": 4,
 "nbformat_minor": 5
}
