# I created the CSV file the using the csv module from the Python Standard Library.

import csv

data = [
    {'Airline': 'AM WEST', 'City': 'Los Angeles', 'Arrival Delay': 62},
    {'Airline': 'AM WEST', 'City': 'San Diego', 'Arrival Delay': 20},
    {'Airline': 'AM WEST', 'City': 'San Francisco', 'Arrival Delay': 102},
    {'Airline': 'AM WEST', 'City': 'Phoenix', 'Arrival Delay': 129},
    {'Airline': 'AM WEST', 'City': 'Seattle', 'Arrival Delay': 305},
    {'Airline': 'ALASKA', 'City': 'Los Angeles', 'Arrival Delay': 12},
    {'Airline': 'ALASKA', 'City': 'San Diego', 'Arrival Delay': 59},
    {'Airline': 'ALASKA', 'City': 'San Francisco', 'Arrival Delay': 201},
    {'Airline': 'ALASKA', 'City': 'Phoenix', 'Arrival Delay': 0},
    {'Airline': 'ALASKA', 'City': 'Seattle', 'Arrival Delay': 0},
]

csv_file_path = 'airline_delays.csv'

with open(csv_file_path, 'w', newline='') as csvfile:
    fieldnames = ['Airline', 'City', 'Arrival Delay']
    writer = csv.DictWriter(csvfile, fieldnames=fieldnames)

    writer.writeheader()
    writer.writerows(data)



#I used pandas to read the data and perform the analysis.

import pandas as pd

df = pd.read_csv('airline_delays.csv')

# Group by airline and calculate mean arrival delay
mean_delay_by_airline = df.groupby('Airline')['Arrival Delay'].mean()

# Display the DataFrame and mean delays
print(df)
print('\nMean Arrival Delays:')
print(mean_delay_by_airline)
df.head()


# Group by airline and calculate mean arrival delay
mean_delay_by_airline = df.groupby('Airline')['Arrival Delay'].mean()

# Display mean delays
mean_delay_by_airline

#Conclusion
#This code creates the 'airline_delays.csv' file using the 'csv' module, reads the data from the file into a pandas DataFrame, drops the empty column, and renames the columns for better readability. Finally, it prints the DataFrame to the console.#
